{
 "cells": [
  {
   "cell_type": "code",
   "execution_count": 5,
   "id": "2f1db618-9f49-4cab-a5e6-258b4817ebad",
   "metadata": {},
   "outputs": [],
   "source": [
    "#Importing needed packages\n",
    "from statsmodels.stats.proportion import proportion_confint\n",
    "import numpy as np\n",
    "import pandas as pd\n",
    "from scipy.stats import chi2_contingency\n",
    "import seaborn as sns\n",
    "import matplotlib.pyplot as plt"
   ]
  },
  {
   "cell_type": "markdown",
   "id": "28866bf2-8304-436f-9028-6d921ff34adf",
   "metadata": {},
   "source": [
    "## Checking and cleaning data"
   ]
  },
  {
   "cell_type": "code",
   "execution_count": 6,
   "id": "bbbae3bc-573e-46e6-b006-8bcbd931de90",
   "metadata": {},
   "outputs": [
    {
     "data": {
      "text/html": [
       "<div>\n",
       "<style scoped>\n",
       "    .dataframe tbody tr th:only-of-type {\n",
       "        vertical-align: middle;\n",
       "    }\n",
       "\n",
       "    .dataframe tbody tr th {\n",
       "        vertical-align: top;\n",
       "    }\n",
       "\n",
       "    .dataframe thead th {\n",
       "        text-align: right;\n",
       "    }\n",
       "</style>\n",
       "<table border=\"1\" class=\"dataframe\">\n",
       "  <thead>\n",
       "    <tr style=\"text-align: right;\">\n",
       "      <th></th>\n",
       "      <th>user_id</th>\n",
       "      <th>timestamp</th>\n",
       "      <th>group</th>\n",
       "      <th>landing_page</th>\n",
       "      <th>converted</th>\n",
       "    </tr>\n",
       "  </thead>\n",
       "  <tbody>\n",
       "    <tr>\n",
       "      <th>0</th>\n",
       "      <td>851104</td>\n",
       "      <td>2017-01-21 22:11:48.556739</td>\n",
       "      <td>control</td>\n",
       "      <td>old_page</td>\n",
       "      <td>0</td>\n",
       "    </tr>\n",
       "    <tr>\n",
       "      <th>1</th>\n",
       "      <td>804228</td>\n",
       "      <td>2017-01-12 08:01:45.159739</td>\n",
       "      <td>control</td>\n",
       "      <td>old_page</td>\n",
       "      <td>0</td>\n",
       "    </tr>\n",
       "    <tr>\n",
       "      <th>2</th>\n",
       "      <td>661590</td>\n",
       "      <td>2017-01-11 16:55:06.154213</td>\n",
       "      <td>treatment</td>\n",
       "      <td>new_page</td>\n",
       "      <td>0</td>\n",
       "    </tr>\n",
       "    <tr>\n",
       "      <th>3</th>\n",
       "      <td>853541</td>\n",
       "      <td>2017-01-08 18:28:03.143765</td>\n",
       "      <td>treatment</td>\n",
       "      <td>new_page</td>\n",
       "      <td>0</td>\n",
       "    </tr>\n",
       "    <tr>\n",
       "      <th>4</th>\n",
       "      <td>864975</td>\n",
       "      <td>2017-01-21 01:52:26.210827</td>\n",
       "      <td>control</td>\n",
       "      <td>old_page</td>\n",
       "      <td>1</td>\n",
       "    </tr>\n",
       "  </tbody>\n",
       "</table>\n",
       "</div>"
      ],
      "text/plain": [
       "   user_id                   timestamp      group landing_page  converted\n",
       "0   851104  2017-01-21 22:11:48.556739    control     old_page          0\n",
       "1   804228  2017-01-12 08:01:45.159739    control     old_page          0\n",
       "2   661590  2017-01-11 16:55:06.154213  treatment     new_page          0\n",
       "3   853541  2017-01-08 18:28:03.143765  treatment     new_page          0\n",
       "4   864975  2017-01-21 01:52:26.210827    control     old_page          1"
      ]
     },
     "execution_count": 6,
     "metadata": {},
     "output_type": "execute_result"
    }
   ],
   "source": [
    "df = pd.read_csv (r'C:\\Users\\patri\\Downloads\\CSVs\\ab_data.csv')\n",
    "df.head()"
   ]
  },
  {
   "cell_type": "code",
   "execution_count": 7,
   "id": "f178619a-08b4-4336-83d2-80e72d7197a8",
   "metadata": {},
   "outputs": [
    {
     "data": {
      "text/html": [
       "<div>\n",
       "<style scoped>\n",
       "    .dataframe tbody tr th:only-of-type {\n",
       "        vertical-align: middle;\n",
       "    }\n",
       "\n",
       "    .dataframe tbody tr th {\n",
       "        vertical-align: top;\n",
       "    }\n",
       "\n",
       "    .dataframe thead th {\n",
       "        text-align: right;\n",
       "    }\n",
       "</style>\n",
       "<table border=\"1\" class=\"dataframe\">\n",
       "  <thead>\n",
       "    <tr style=\"text-align: right;\">\n",
       "      <th></th>\n",
       "      <th></th>\n",
       "      <th>user_id</th>\n",
       "      <th>timestamp</th>\n",
       "      <th>converted</th>\n",
       "    </tr>\n",
       "    <tr>\n",
       "      <th>group</th>\n",
       "      <th>landing_page</th>\n",
       "      <th></th>\n",
       "      <th></th>\n",
       "      <th></th>\n",
       "    </tr>\n",
       "  </thead>\n",
       "  <tbody>\n",
       "    <tr>\n",
       "      <th rowspan=\"2\" valign=\"top\">control</th>\n",
       "      <th>new_page</th>\n",
       "      <td>1928</td>\n",
       "      <td>1928</td>\n",
       "      <td>1928</td>\n",
       "    </tr>\n",
       "    <tr>\n",
       "      <th>old_page</th>\n",
       "      <td>145274</td>\n",
       "      <td>145274</td>\n",
       "      <td>145274</td>\n",
       "    </tr>\n",
       "    <tr>\n",
       "      <th rowspan=\"2\" valign=\"top\">treatment</th>\n",
       "      <th>new_page</th>\n",
       "      <td>145311</td>\n",
       "      <td>145311</td>\n",
       "      <td>145311</td>\n",
       "    </tr>\n",
       "    <tr>\n",
       "      <th>old_page</th>\n",
       "      <td>1965</td>\n",
       "      <td>1965</td>\n",
       "      <td>1965</td>\n",
       "    </tr>\n",
       "  </tbody>\n",
       "</table>\n",
       "</div>"
      ],
      "text/plain": [
       "                        user_id  timestamp  converted\n",
       "group     landing_page                               \n",
       "control   new_page         1928       1928       1928\n",
       "          old_page       145274     145274     145274\n",
       "treatment new_page       145311     145311     145311\n",
       "          old_page         1965       1965       1965"
      ]
     },
     "execution_count": 7,
     "metadata": {},
     "output_type": "execute_result"
    }
   ],
   "source": [
    "#Checking the control and user groups for any crossover/error\n",
    "df.groupby(['group', 'landing_page']).count()"
   ]
  },
  {
   "cell_type": "code",
   "execution_count": 8,
   "id": "9f95d517-5b95-4b91-86d5-e98029def3e6",
   "metadata": {},
   "outputs": [],
   "source": [
    "#Removing the users for control who saw the new page, and treatment who saw the old page\n",
    "#df_clean = df.loc[df['group'] == 'control' & df['landing_page'] == 'old_page' | df['group'] == 'treatment' & df['landing_page'] == 'new_page']"
   ]
  },
  {
   "cell_type": "code",
   "execution_count": 9,
   "id": "26bd1876-6a3a-47c4-acdb-3d6bfa6fd488",
   "metadata": {},
   "outputs": [],
   "source": [
    "#Filtering out the incorrect control/treatment instances\n",
    "filter1 = df['group'] == 'control'\n",
    "filter2 = df['landing_page'] == 'old_page'\n",
    "filter3 = df['group'] == 'treatment'\n",
    "filter4 = df['landing_page'] == 'new_page'\n",
    "df_clean = df.loc[filter1 & filter2| filter3 & filter4]"
   ]
  },
  {
   "cell_type": "code",
   "execution_count": 10,
   "id": "6811c517-383d-4a31-9829-5811527aff97",
   "metadata": {},
   "outputs": [
    {
     "data": {
      "text/html": [
       "<div>\n",
       "<style scoped>\n",
       "    .dataframe tbody tr th:only-of-type {\n",
       "        vertical-align: middle;\n",
       "    }\n",
       "\n",
       "    .dataframe tbody tr th {\n",
       "        vertical-align: top;\n",
       "    }\n",
       "\n",
       "    .dataframe thead th {\n",
       "        text-align: right;\n",
       "    }\n",
       "</style>\n",
       "<table border=\"1\" class=\"dataframe\">\n",
       "  <thead>\n",
       "    <tr style=\"text-align: right;\">\n",
       "      <th></th>\n",
       "      <th></th>\n",
       "      <th>user_id</th>\n",
       "      <th>timestamp</th>\n",
       "      <th>converted</th>\n",
       "    </tr>\n",
       "    <tr>\n",
       "      <th>group</th>\n",
       "      <th>landing_page</th>\n",
       "      <th></th>\n",
       "      <th></th>\n",
       "      <th></th>\n",
       "    </tr>\n",
       "  </thead>\n",
       "  <tbody>\n",
       "    <tr>\n",
       "      <th>control</th>\n",
       "      <th>old_page</th>\n",
       "      <td>145274</td>\n",
       "      <td>145274</td>\n",
       "      <td>145274</td>\n",
       "    </tr>\n",
       "    <tr>\n",
       "      <th>treatment</th>\n",
       "      <th>new_page</th>\n",
       "      <td>145311</td>\n",
       "      <td>145311</td>\n",
       "      <td>145311</td>\n",
       "    </tr>\n",
       "  </tbody>\n",
       "</table>\n",
       "</div>"
      ],
      "text/plain": [
       "                        user_id  timestamp  converted\n",
       "group     landing_page                               \n",
       "control   old_page       145274     145274     145274\n",
       "treatment new_page       145311     145311     145311"
      ]
     },
     "execution_count": 10,
     "metadata": {},
     "output_type": "execute_result"
    }
   ],
   "source": [
    "#Checking the control and user groups again\n",
    "df_clean.groupby(['group', 'landing_page']).count()"
   ]
  },
  {
   "cell_type": "code",
   "execution_count": 11,
   "id": "84b5c87b-9d08-4086-bc70-800287b0d59d",
   "metadata": {},
   "outputs": [
    {
     "data": {
      "text/html": [
       "<div>\n",
       "<style scoped>\n",
       "    .dataframe tbody tr th:only-of-type {\n",
       "        vertical-align: middle;\n",
       "    }\n",
       "\n",
       "    .dataframe tbody tr th {\n",
       "        vertical-align: top;\n",
       "    }\n",
       "\n",
       "    .dataframe thead th {\n",
       "        text-align: right;\n",
       "    }\n",
       "</style>\n",
       "<table border=\"1\" class=\"dataframe\">\n",
       "  <thead>\n",
       "    <tr style=\"text-align: right;\">\n",
       "      <th></th>\n",
       "      <th>user_id</th>\n",
       "      <th>timestamp</th>\n",
       "      <th>group</th>\n",
       "      <th>landing_page</th>\n",
       "      <th>converted</th>\n",
       "    </tr>\n",
       "  </thead>\n",
       "  <tbody>\n",
       "    <tr>\n",
       "      <th>2893</th>\n",
       "      <td>773192</td>\n",
       "      <td>2017-01-14 02:55:59.590927</td>\n",
       "      <td>treatment</td>\n",
       "      <td>new_page</td>\n",
       "      <td>0</td>\n",
       "    </tr>\n",
       "  </tbody>\n",
       "</table>\n",
       "</div>"
      ],
      "text/plain": [
       "      user_id                   timestamp      group landing_page  converted\n",
       "2893   773192  2017-01-14 02:55:59.590927  treatment     new_page          0"
      ]
     },
     "execution_count": 11,
     "metadata": {},
     "output_type": "execute_result"
    }
   ],
   "source": [
    "#Checking if there are any duplicated users\n",
    "df_clean[df_clean.duplicated(subset = ['user_id'])]"
   ]
  },
  {
   "cell_type": "code",
   "execution_count": 12,
   "id": "0393ba41-19aa-46e1-a27f-da983c914b84",
   "metadata": {},
   "outputs": [
    {
     "data": {
      "text/html": [
       "<div>\n",
       "<style scoped>\n",
       "    .dataframe tbody tr th:only-of-type {\n",
       "        vertical-align: middle;\n",
       "    }\n",
       "\n",
       "    .dataframe tbody tr th {\n",
       "        vertical-align: top;\n",
       "    }\n",
       "\n",
       "    .dataframe thead th {\n",
       "        text-align: right;\n",
       "    }\n",
       "</style>\n",
       "<table border=\"1\" class=\"dataframe\">\n",
       "  <thead>\n",
       "    <tr style=\"text-align: right;\">\n",
       "      <th></th>\n",
       "      <th>user_id</th>\n",
       "      <th>timestamp</th>\n",
       "      <th>group</th>\n",
       "      <th>landing_page</th>\n",
       "      <th>converted</th>\n",
       "    </tr>\n",
       "  </thead>\n",
       "  <tbody>\n",
       "    <tr>\n",
       "      <th>0</th>\n",
       "      <td>851104</td>\n",
       "      <td>2017-01-21 22:11:48.556739</td>\n",
       "      <td>control</td>\n",
       "      <td>old_page</td>\n",
       "      <td>0</td>\n",
       "    </tr>\n",
       "    <tr>\n",
       "      <th>1</th>\n",
       "      <td>804228</td>\n",
       "      <td>2017-01-12 08:01:45.159739</td>\n",
       "      <td>control</td>\n",
       "      <td>old_page</td>\n",
       "      <td>0</td>\n",
       "    </tr>\n",
       "    <tr>\n",
       "      <th>2</th>\n",
       "      <td>661590</td>\n",
       "      <td>2017-01-11 16:55:06.154213</td>\n",
       "      <td>treatment</td>\n",
       "      <td>new_page</td>\n",
       "      <td>0</td>\n",
       "    </tr>\n",
       "    <tr>\n",
       "      <th>3</th>\n",
       "      <td>853541</td>\n",
       "      <td>2017-01-08 18:28:03.143765</td>\n",
       "      <td>treatment</td>\n",
       "      <td>new_page</td>\n",
       "      <td>0</td>\n",
       "    </tr>\n",
       "    <tr>\n",
       "      <th>4</th>\n",
       "      <td>864975</td>\n",
       "      <td>2017-01-21 01:52:26.210827</td>\n",
       "      <td>control</td>\n",
       "      <td>old_page</td>\n",
       "      <td>1</td>\n",
       "    </tr>\n",
       "  </tbody>\n",
       "</table>\n",
       "</div>"
      ],
      "text/plain": [
       "   user_id                   timestamp      group landing_page  converted\n",
       "0   851104  2017-01-21 22:11:48.556739    control     old_page          0\n",
       "1   804228  2017-01-12 08:01:45.159739    control     old_page          0\n",
       "2   661590  2017-01-11 16:55:06.154213  treatment     new_page          0\n",
       "3   853541  2017-01-08 18:28:03.143765  treatment     new_page          0\n",
       "4   864975  2017-01-21 01:52:26.210827    control     old_page          1"
      ]
     },
     "execution_count": 12,
     "metadata": {},
     "output_type": "execute_result"
    }
   ],
   "source": [
    "#Removing the second instance of the duplicated user\n",
    "df_clean = df_clean.drop_duplicates(subset='user_id', keep='first')\n",
    "df_clean.head()"
   ]
  },
  {
   "cell_type": "markdown",
   "id": "22fb1948-8615-4540-b6b1-97f1bada73ad",
   "metadata": {},
   "source": [
    "## Looking at the distribution"
   ]
  },
  {
   "cell_type": "code",
   "execution_count": 64,
   "id": "cb19ad95-ad2d-42ae-9481-1bec351f3e51",
   "metadata": {},
   "outputs": [
    {
     "data": {
      "image/png": "[encoded data removed]",
      "text/plain": [
       "<Figure size 432x288 with 1 Axes>"
      ]
     },
     "metadata": {},
     "output_type": "display_data"
    }
   ],
   "source": [
    "#Looking at a barplot to see the relative proportions of conversions\n",
    "#Looking like the new page may have had less conversions\n",
    "from matplotlib import rcParams\n",
    "sns.set_style('white')\n",
    "rcParams['figure.figsize'] = 6,4\n",
    "\n",
    "_=sns.barplot(x='landing_page' , y='converted' , data=df_clean)\n",
    "plt.title('Control vs Variant Conversion Rate')\n",
    "plt.ylabel('Conversion Proportion')\n",
    "plt.xlabel('Group')\n",
    "plt.show()"
   ]
  },
  {
   "cell_type": "markdown",
   "id": "d35a4f87-f97a-48ed-954d-bcdf9094c1fa",
   "metadata": {},
   "source": [
    "## Exploration with dates"
   ]
  },
  {
   "cell_type": "code",
   "execution_count": 14,
   "id": "aca57934-53a8-4aa6-a345-74dcda4205b4",
   "metadata": {},
   "outputs": [
    {
     "data": {
      "text/plain": [
       "user_id          int64\n",
       "timestamp       object\n",
       "group           object\n",
       "landing_page    object\n",
       "converted        int64\n",
       "dtype: object"
      ]
     },
     "execution_count": 14,
     "metadata": {},
     "output_type": "execute_result"
    }
   ],
   "source": [
    "#Checking dtypes\n",
    "df_clean.dtypes"
   ]
  },
  {
   "cell_type": "code",
   "execution_count": 15,
   "id": "d04985b9-bb5c-4d62-8f0b-4effeb981d22",
   "metadata": {},
   "outputs": [
    {
     "data": {
      "text/html": [
       "<div>\n",
       "<style scoped>\n",
       "    .dataframe tbody tr th:only-of-type {\n",
       "        vertical-align: middle;\n",
       "    }\n",
       "\n",
       "    .dataframe tbody tr th {\n",
       "        vertical-align: top;\n",
       "    }\n",
       "\n",
       "    .dataframe thead th {\n",
       "        text-align: right;\n",
       "    }\n",
       "</style>\n",
       "<table border=\"1\" class=\"dataframe\">\n",
       "  <thead>\n",
       "    <tr style=\"text-align: right;\">\n",
       "      <th></th>\n",
       "      <th>user_id</th>\n",
       "      <th>timestamp</th>\n",
       "      <th>group</th>\n",
       "      <th>landing_page</th>\n",
       "      <th>converted</th>\n",
       "    </tr>\n",
       "  </thead>\n",
       "  <tbody>\n",
       "    <tr>\n",
       "      <th>0</th>\n",
       "      <td>851104</td>\n",
       "      <td>2017-01-21 22:11:48.556739</td>\n",
       "      <td>control</td>\n",
       "      <td>old_page</td>\n",
       "      <td>0</td>\n",
       "    </tr>\n",
       "    <tr>\n",
       "      <th>1</th>\n",
       "      <td>804228</td>\n",
       "      <td>2017-01-12 08:01:45.159739</td>\n",
       "      <td>control</td>\n",
       "      <td>old_page</td>\n",
       "      <td>0</td>\n",
       "    </tr>\n",
       "    <tr>\n",
       "      <th>2</th>\n",
       "      <td>661590</td>\n",
       "      <td>2017-01-11 16:55:06.154213</td>\n",
       "      <td>treatment</td>\n",
       "      <td>new_page</td>\n",
       "      <td>0</td>\n",
       "    </tr>\n",
       "    <tr>\n",
       "      <th>3</th>\n",
       "      <td>853541</td>\n",
       "      <td>2017-01-08 18:28:03.143765</td>\n",
       "      <td>treatment</td>\n",
       "      <td>new_page</td>\n",
       "      <td>0</td>\n",
       "    </tr>\n",
       "    <tr>\n",
       "      <th>4</th>\n",
       "      <td>864975</td>\n",
       "      <td>2017-01-21 01:52:26.210827</td>\n",
       "      <td>control</td>\n",
       "      <td>old_page</td>\n",
       "      <td>1</td>\n",
       "    </tr>\n",
       "  </tbody>\n",
       "</table>\n",
       "</div>"
      ],
      "text/plain": [
       "   user_id                  timestamp      group landing_page  converted\n",
       "0   851104 2017-01-21 22:11:48.556739    control     old_page          0\n",
       "1   804228 2017-01-12 08:01:45.159739    control     old_page          0\n",
       "2   661590 2017-01-11 16:55:06.154213  treatment     new_page          0\n",
       "3   853541 2017-01-08 18:28:03.143765  treatment     new_page          0\n",
       "4   864975 2017-01-21 01:52:26.210827    control     old_page          1"
      ]
     },
     "execution_count": 15,
     "metadata": {},
     "output_type": "execute_result"
    }
   ],
   "source": [
    "#Converting timestamp to datetime\n",
    "import datetime as dt\n",
    "df_clean['timestamp'] =  pd.to_datetime(df['timestamp'], format='%Y-%m-%d %H:%M:%S')\n",
    "df_clean.head()"
   ]
  },
  {
   "cell_type": "code",
   "execution_count": 16,
   "id": "a3bfd601-e1ce-4d28-95ea-bc3d907606d8",
   "metadata": {},
   "outputs": [
    {
     "data": {
      "text/html": [
       "<div>\n",
       "<style scoped>\n",
       "    .dataframe tbody tr th:only-of-type {\n",
       "        vertical-align: middle;\n",
       "    }\n",
       "\n",
       "    .dataframe tbody tr th {\n",
       "        vertical-align: top;\n",
       "    }\n",
       "\n",
       "    .dataframe thead th {\n",
       "        text-align: right;\n",
       "    }\n",
       "</style>\n",
       "<table border=\"1\" class=\"dataframe\">\n",
       "  <thead>\n",
       "    <tr style=\"text-align: right;\">\n",
       "      <th></th>\n",
       "      <th>user_id</th>\n",
       "      <th>timestamp</th>\n",
       "      <th>group</th>\n",
       "      <th>landing_page</th>\n",
       "      <th>converted</th>\n",
       "      <th>month_day</th>\n",
       "    </tr>\n",
       "  </thead>\n",
       "  <tbody>\n",
       "    <tr>\n",
       "      <th>0</th>\n",
       "      <td>851104</td>\n",
       "      <td>2017-01-21 22:11:48.556739</td>\n",
       "      <td>control</td>\n",
       "      <td>old_page</td>\n",
       "      <td>0</td>\n",
       "      <td>01-21</td>\n",
       "    </tr>\n",
       "    <tr>\n",
       "      <th>1</th>\n",
       "      <td>804228</td>\n",
       "      <td>2017-01-12 08:01:45.159739</td>\n",
       "      <td>control</td>\n",
       "      <td>old_page</td>\n",
       "      <td>0</td>\n",
       "      <td>01-12</td>\n",
       "    </tr>\n",
       "    <tr>\n",
       "      <th>2</th>\n",
       "      <td>661590</td>\n",
       "      <td>2017-01-11 16:55:06.154213</td>\n",
       "      <td>treatment</td>\n",
       "      <td>new_page</td>\n",
       "      <td>0</td>\n",
       "      <td>01-11</td>\n",
       "    </tr>\n",
       "    <tr>\n",
       "      <th>3</th>\n",
       "      <td>853541</td>\n",
       "      <td>2017-01-08 18:28:03.143765</td>\n",
       "      <td>treatment</td>\n",
       "      <td>new_page</td>\n",
       "      <td>0</td>\n",
       "      <td>01-08</td>\n",
       "    </tr>\n",
       "    <tr>\n",
       "      <th>4</th>\n",
       "      <td>864975</td>\n",
       "      <td>2017-01-21 01:52:26.210827</td>\n",
       "      <td>control</td>\n",
       "      <td>old_page</td>\n",
       "      <td>1</td>\n",
       "      <td>01-21</td>\n",
       "    </tr>\n",
       "  </tbody>\n",
       "</table>\n",
       "</div>"
      ],
      "text/plain": [
       "   user_id                  timestamp      group landing_page  converted  \\\n",
       "0   851104 2017-01-21 22:11:48.556739    control     old_page          0   \n",
       "1   804228 2017-01-12 08:01:45.159739    control     old_page          0   \n",
       "2   661590 2017-01-11 16:55:06.154213  treatment     new_page          0   \n",
       "3   853541 2017-01-08 18:28:03.143765  treatment     new_page          0   \n",
       "4   864975 2017-01-21 01:52:26.210827    control     old_page          1   \n",
       "\n",
       "  month_day  \n",
       "0     01-21  \n",
       "1     01-12  \n",
       "2     01-11  \n",
       "3     01-08  \n",
       "4     01-21  "
      ]
     },
     "execution_count": 16,
     "metadata": {},
     "output_type": "execute_result"
    }
   ],
   "source": [
    "#Checking the time period\n",
    "df_clean['month_day'] = df_clean['timestamp'].dt.strftime('%m-%d')\n",
    "df_clean.head()"
   ]
  },
  {
   "cell_type": "code",
   "execution_count": 17,
   "id": "b204d182-8562-468a-a433-bdda236c67a3",
   "metadata": {},
   "outputs": [
    {
     "data": {
      "text/html": [
       "<div>\n",
       "<style scoped>\n",
       "    .dataframe tbody tr th:only-of-type {\n",
       "        vertical-align: middle;\n",
       "    }\n",
       "\n",
       "    .dataframe tbody tr th {\n",
       "        vertical-align: top;\n",
       "    }\n",
       "\n",
       "    .dataframe thead th {\n",
       "        text-align: right;\n",
       "    }\n",
       "</style>\n",
       "<table border=\"1\" class=\"dataframe\">\n",
       "  <thead>\n",
       "    <tr style=\"text-align: right;\">\n",
       "      <th></th>\n",
       "      <th>user_id</th>\n",
       "      <th>timestamp</th>\n",
       "      <th>group</th>\n",
       "      <th>landing_page</th>\n",
       "      <th>converted</th>\n",
       "      <th>month_day</th>\n",
       "    </tr>\n",
       "  </thead>\n",
       "  <tbody>\n",
       "    <tr>\n",
       "      <th>184831</th>\n",
       "      <td>929659</td>\n",
       "      <td>2017-01-02 14:41:58.848698</td>\n",
       "      <td>treatment</td>\n",
       "      <td>new_page</td>\n",
       "      <td>0</td>\n",
       "      <td>01-02</td>\n",
       "    </tr>\n",
       "    <tr>\n",
       "      <th>148281</th>\n",
       "      <td>779581</td>\n",
       "      <td>2017-01-02 16:31:51.186604</td>\n",
       "      <td>control</td>\n",
       "      <td>old_page</td>\n",
       "      <td>0</td>\n",
       "      <td>01-02</td>\n",
       "    </tr>\n",
       "    <tr>\n",
       "      <th>248721</th>\n",
       "      <td>740003</td>\n",
       "      <td>2017-01-02 17:11:05.168172</td>\n",
       "      <td>control</td>\n",
       "      <td>old_page</td>\n",
       "      <td>1</td>\n",
       "      <td>01-02</td>\n",
       "    </tr>\n",
       "    <tr>\n",
       "      <th>248722</th>\n",
       "      <td>823601</td>\n",
       "      <td>2017-01-02 23:41:20.188398</td>\n",
       "      <td>treatment</td>\n",
       "      <td>new_page</td>\n",
       "      <td>0</td>\n",
       "      <td>01-02</td>\n",
       "    </tr>\n",
       "    <tr>\n",
       "      <th>77133</th>\n",
       "      <td>845187</td>\n",
       "      <td>2017-01-02 18:13:49.064532</td>\n",
       "      <td>treatment</td>\n",
       "      <td>new_page</td>\n",
       "      <td>0</td>\n",
       "      <td>01-02</td>\n",
       "    </tr>\n",
       "  </tbody>\n",
       "</table>\n",
       "</div>"
      ],
      "text/plain": [
       "        user_id                  timestamp      group landing_page  converted  \\\n",
       "184831   929659 2017-01-02 14:41:58.848698  treatment     new_page          0   \n",
       "148281   779581 2017-01-02 16:31:51.186604    control     old_page          0   \n",
       "248721   740003 2017-01-02 17:11:05.168172    control     old_page          1   \n",
       "248722   823601 2017-01-02 23:41:20.188398  treatment     new_page          0   \n",
       "77133    845187 2017-01-02 18:13:49.064532  treatment     new_page          0   \n",
       "\n",
       "       month_day  \n",
       "184831     01-02  \n",
       "148281     01-02  \n",
       "248721     01-02  \n",
       "248722     01-02  \n",
       "77133      01-02  "
      ]
     },
     "execution_count": 17,
     "metadata": {},
     "output_type": "execute_result"
    }
   ],
   "source": [
    "#Putting in order by month_day to be able to graph, since I could not get the order argument to work\n",
    "df_clean = df_clean.sort_values(by='month_day')\n",
    "df_clean.head()"
   ]
  },
  {
   "cell_type": "code",
   "execution_count": 62,
   "id": "b08ca323-901b-41b1-8b7f-e27fa89f059c",
   "metadata": {},
   "outputs": [
    {
     "data": {
      "image/png": "[encoded data removed]",
      "text/plain": [
       "<Figure size 504x288 with 1 Axes>"
      ]
     },
     "metadata": {},
     "output_type": "display_data"
    }
   ],
   "source": [
    "# can't seem to get order to work: order = df_clean.sort_values(by='month_day').month_day\n",
    "\n",
    "rcParams['figure.figsize'] = 7,4\n",
    "\n",
    "plt.title('Conversion Rate by Date')\n",
    "plt.ylabel('Conversion Proportion')\n",
    "plt.xlabel('Date')\n",
    "_ = sns.barplot(x='month_day', y = 'converted', data=df_clean)\n",
    "_ = plt.xticks(rotation = 45)\n",
    "plt.show()"
   ]
  },
  {
   "cell_type": "code",
   "execution_count": 20,
   "id": "51d51d13-88bb-44f2-a028-a3d099c27854",
   "metadata": {},
   "outputs": [],
   "source": [
    "#Seeing trends over the week for trafic\n",
    "#df_clean['weekday'] = dt.datetime(df_clean['timestamp']).weekday()"
   ]
  },
  {
   "cell_type": "code",
   "execution_count": 21,
   "id": "079faa59-5d31-4d8f-8019-866869b65174",
   "metadata": {},
   "outputs": [
    {
     "data": {
      "text/plain": [
       "5"
      ]
     },
     "execution_count": 21,
     "metadata": {},
     "output_type": "execute_result"
    }
   ],
   "source": [
    "dt.datetime.today().weekday()"
   ]
  },
  {
   "cell_type": "code",
   "execution_count": 50,
   "id": "d4ba3bdd-ed2c-45d0-adbb-f9958837f3f2",
   "metadata": {},
   "outputs": [],
   "source": [
    "#Function to return day of week. Each instances is a timestamp, so we use pd.timestamp.weekday()\n",
    "def to_weekday(x):\n",
    "    if x.weekday() == 0:\n",
    "        return 'Monday'\n",
    "    if x.weekday() == 1:\n",
    "        return 'Tuesday'\n",
    "    if x.weekday() == 2:\n",
    "        return 'Wednesday'\n",
    "    if x.weekday() == 3:\n",
    "        return 'Thursday'\n",
    "    if x.weekday() == 4:\n",
    "        return 'Friday'\n",
    "    if x.weekday() == 5:\n",
    "        return 'Saturday'\n",
    "    if x.weekday() == 6:\n",
    "        return 'Sunday'"
   ]
  },
  {
   "cell_type": "code",
   "execution_count": 51,
   "id": "de6ed73f-242f-4ec4-aa9d-23e16848e0c4",
   "metadata": {},
   "outputs": [
    {
     "data": {
      "text/plain": [
       "'Saturday'"
      ]
     },
     "execution_count": 51,
     "metadata": {},
     "output_type": "execute_result"
    }
   ],
   "source": [
    "#Testing on first element of timestamp column\n",
    "to_weekday(df_clean['timestamp'][0])"
   ]
  },
  {
   "cell_type": "code",
   "execution_count": 52,
   "id": "6c542de4-b658-405c-8c55-3803fe917b3c",
   "metadata": {},
   "outputs": [],
   "source": [
    "#Applying weekday to timestamp column\n",
    "df_clean['weekday'] = df_clean.apply(lambda x: to_weekday(x['timestamp']), axis=1)"
   ]
  },
  {
   "cell_type": "code",
   "execution_count": 53,
   "id": "33117fb1-961c-4da0-85ea-1a5e187bd6cf",
   "metadata": {},
   "outputs": [
    {
     "data": {
      "text/html": [
       "<div>\n",
       "<style scoped>\n",
       "    .dataframe tbody tr th:only-of-type {\n",
       "        vertical-align: middle;\n",
       "    }\n",
       "\n",
       "    .dataframe tbody tr th {\n",
       "        vertical-align: top;\n",
       "    }\n",
       "\n",
       "    .dataframe thead th {\n",
       "        text-align: right;\n",
       "    }\n",
       "</style>\n",
       "<table border=\"1\" class=\"dataframe\">\n",
       "  <thead>\n",
       "    <tr style=\"text-align: right;\">\n",
       "      <th></th>\n",
       "      <th>user_id</th>\n",
       "      <th>timestamp</th>\n",
       "      <th>group</th>\n",
       "      <th>landing_page</th>\n",
       "      <th>converted</th>\n",
       "      <th>month_day</th>\n",
       "      <th>weekday</th>\n",
       "    </tr>\n",
       "  </thead>\n",
       "  <tbody>\n",
       "    <tr>\n",
       "      <th>184831</th>\n",
       "      <td>929659</td>\n",
       "      <td>2017-01-02 14:41:58.848698</td>\n",
       "      <td>treatment</td>\n",
       "      <td>new_page</td>\n",
       "      <td>0</td>\n",
       "      <td>01-02</td>\n",
       "      <td>Monday</td>\n",
       "    </tr>\n",
       "    <tr>\n",
       "      <th>148281</th>\n",
       "      <td>779581</td>\n",
       "      <td>2017-01-02 16:31:51.186604</td>\n",
       "      <td>control</td>\n",
       "      <td>old_page</td>\n",
       "      <td>0</td>\n",
       "      <td>01-02</td>\n",
       "      <td>Monday</td>\n",
       "    </tr>\n",
       "    <tr>\n",
       "      <th>248721</th>\n",
       "      <td>740003</td>\n",
       "      <td>2017-01-02 17:11:05.168172</td>\n",
       "      <td>control</td>\n",
       "      <td>old_page</td>\n",
       "      <td>1</td>\n",
       "      <td>01-02</td>\n",
       "      <td>Monday</td>\n",
       "    </tr>\n",
       "    <tr>\n",
       "      <th>248722</th>\n",
       "      <td>823601</td>\n",
       "      <td>2017-01-02 23:41:20.188398</td>\n",
       "      <td>treatment</td>\n",
       "      <td>new_page</td>\n",
       "      <td>0</td>\n",
       "      <td>01-02</td>\n",
       "      <td>Monday</td>\n",
       "    </tr>\n",
       "    <tr>\n",
       "      <th>77133</th>\n",
       "      <td>845187</td>\n",
       "      <td>2017-01-02 18:13:49.064532</td>\n",
       "      <td>treatment</td>\n",
       "      <td>new_page</td>\n",
       "      <td>0</td>\n",
       "      <td>01-02</td>\n",
       "      <td>Monday</td>\n",
       "    </tr>\n",
       "  </tbody>\n",
       "</table>\n",
       "</div>"
      ],
      "text/plain": [
       "        user_id                  timestamp      group landing_page  converted  \\\n",
       "184831   929659 2017-01-02 14:41:58.848698  treatment     new_page          0   \n",
       "148281   779581 2017-01-02 16:31:51.186604    control     old_page          0   \n",
       "248721   740003 2017-01-02 17:11:05.168172    control     old_page          1   \n",
       "248722   823601 2017-01-02 23:41:20.188398  treatment     new_page          0   \n",
       "77133    845187 2017-01-02 18:13:49.064532  treatment     new_page          0   \n",
       "\n",
       "       month_day weekday  \n",
       "184831     01-02  Monday  \n",
       "148281     01-02  Monday  \n",
       "248721     01-02  Monday  \n",
       "248722     01-02  Monday  \n",
       "77133      01-02  Monday  "
      ]
     },
     "execution_count": 53,
     "metadata": {},
     "output_type": "execute_result"
    }
   ],
   "source": [
    "#Checking df\n",
    "df_clean.head()"
   ]
  },
  {
   "cell_type": "code",
   "execution_count": 66,
   "id": "7b2cf1c6-d428-4447-893e-08b6985c1456",
   "metadata": {},
   "outputs": [
    {
     "data": {
      "image/png": "[encoded data removed]",
      "text/plain": [
       "<Figure size 432x288 with 1 Axes>"
      ]
     },
     "metadata": {},
     "output_type": "display_data"
    }
   ],
   "source": [
    "#plotting weekdays - See more traffic earlier in the week\n",
    "\n",
    "rcParams['figure.figsize'] = 6,4\n",
    "\n",
    "_=sns.countplot(x='weekday', data=df_clean)\n",
    "plt.title('January Visitors by Weekday')\n",
    "plt.ylabel('Visitor Count')\n",
    "plt.xlabel('Day of Week')\n",
    "_ = plt.xticks(rotation = 20)\n",
    "plt.show()"
   ]
  },
  {
   "cell_type": "markdown",
   "id": "7e4708c1-4707-48e7-b579-4a04fa820b7c",
   "metadata": {},
   "source": [
    "## Chi Square test to see if treatment group had differing converion rate"
   ]
  },
  {
   "cell_type": "code",
   "execution_count": 60,
   "id": "91ddc3f7-642e-4607-830c-3b7b47637372",
   "metadata": {},
   "outputs": [
    {
     "data": {
      "text/html": [
       "<div>\n",
       "<style scoped>\n",
       "    .dataframe tbody tr th:only-of-type {\n",
       "        vertical-align: middle;\n",
       "    }\n",
       "\n",
       "    .dataframe tbody tr th {\n",
       "        vertical-align: top;\n",
       "    }\n",
       "\n",
       "    .dataframe thead th {\n",
       "        text-align: right;\n",
       "    }\n",
       "</style>\n",
       "<table border=\"1\" class=\"dataframe\">\n",
       "  <thead>\n",
       "    <tr style=\"text-align: right;\">\n",
       "      <th>converted</th>\n",
       "      <th>0</th>\n",
       "      <th>1</th>\n",
       "    </tr>\n",
       "    <tr>\n",
       "      <th>landing_page</th>\n",
       "      <th></th>\n",
       "      <th></th>\n",
       "    </tr>\n",
       "  </thead>\n",
       "  <tbody>\n",
       "    <tr>\n",
       "      <th>new_page</th>\n",
       "      <td>128046</td>\n",
       "      <td>17264</td>\n",
       "    </tr>\n",
       "    <tr>\n",
       "      <th>old_page</th>\n",
       "      <td>127785</td>\n",
       "      <td>17489</td>\n",
       "    </tr>\n",
       "  </tbody>\n",
       "</table>\n",
       "</div>"
      ],
      "text/plain": [
       "converted          0      1\n",
       "landing_page               \n",
       "new_page      128046  17264\n",
       "old_page      127785  17489"
      ]
     },
     "execution_count": 60,
     "metadata": {},
     "output_type": "execute_result"
    }
   ],
   "source": [
    "#Crosstab to prepare for test\n",
    "df_crosstab = pd.crosstab(df_clean.landing_page, df_clean.converted)\n",
    "df_crosstab"
   ]
  },
  {
   "cell_type": "code",
   "execution_count": 68,
   "id": "23a59b2b-8fe0-4018-9772-5517fae223d7",
   "metadata": {},
   "outputs": [
    {
     "name": "stdout",
     "output_type": "stream",
     "text": [
      "0.18988337448194853\n"
     ]
    }
   ],
   "source": [
    "#Running chi square test - p > 0.05, so we do not see any significant difference in the conversion rate within the control and variant.\n",
    "stat, p, dof, expected = chi2_contingency(df_crosstab, correction=False)\n",
    "print(p)"
   ]
  },
  {
   "cell_type": "markdown",
   "id": "668afed5-fc1d-41f3-89f5-eaedd9a9fd42",
   "metadata": {},
   "source": [
    "## Checking Confidence Interval Values"
   ]
  },
  {
   "cell_type": "code",
   "execution_count": 85,
   "id": "81949e1d-205d-4e39-bd52-881786dbb79e",
   "metadata": {},
   "outputs": [
    {
     "name": "stdout",
     "output_type": "stream",
     "text": [
      "95% CI for control: [11.71%, 12.05%]\n"
     ]
    }
   ],
   "source": [
    "#CI for the control group\n",
    "LB_0, UB_0 = proportion_confint(count=df_crosstab[1][0],    # Number of \"successes\"\n",
    "                   nobs=df_crosstab[0][0]+df_crosstab[1][0],    # Number of trials\n",
    "                   alpha=(1 - 0.95))\n",
    "print(f'95% CI for control: [{round(LB_0*100,2)}%, {round(UB_0*100,2)}%]')"
   ]
  },
  {
   "cell_type": "code",
   "execution_count": 86,
   "id": "fd8a04f6-2dfa-4a64-9597-d551360b9ba5",
   "metadata": {},
   "outputs": [
    {
     "name": "stdout",
     "output_type": "stream",
     "text": [
      "95% CI for control: [11.87%, 12.21%]\n"
     ]
    }
   ],
   "source": [
    "#CI for the treatment group\n",
    "LB_1, UB_1 = proportion_confint(count=df_crosstab[1][1],    # Number of \"successes\"\n",
    "                   nobs=df_crosstab[0][1]+df_crosstab[1][1],    # Number of trials\n",
    "                   alpha=(1 - 0.95))\n",
    "print(f'95% CI for control: [{round(LB_1*100,2)}%, {round(UB_1*100,2)}%]')"
   ]
  },
  {
   "cell_type": "code",
   "execution_count": null,
   "id": "fc82ecc0-e59a-4323-bd04-9ce7c2361086",
   "metadata": {},
   "outputs": [],
   "source": [
    "#Can see just how close they are, with overlaps in most of the range."
   ]
  },
  {
   "cell_type": "code",
   "execution_count": 179,
   "id": "60b44a4e-c96f-4205-a78e-d81561404e1f",
   "metadata": {},
   "outputs": [
    {
     "data": {
      "image/png": "[encoded data removed]",
      "text/plain": [
       "<Figure size 432x288 with 1 Axes>"
      ]
     },
     "metadata": {},
     "output_type": "display_data"
    }
   ],
   "source": [
    "#Barplot for CI\n",
    "fig, ax = plt.subplots()\n",
    "\n",
    "#Stacked horizontal bar graphs for control and variant\n",
    "ax.barh('Control', LB_0, color='lightgreen')\n",
    "ax.barh('Control', UB_0-LB_0, label = 'Control CI', left=LB_0, color='green')\n",
    "ax.barh('Variant', LB_1, color='lightblue')\n",
    "ax.barh('Variant', UB_1-LB_1, label = 'Variant CI', left=LB_1, color='blue')\n",
    "\n",
    "#Setting labels\n",
    "ax.set_ylabel('Group')\n",
    "ax.set_xlabel('Conversion Rate')\n",
    "ax.set_title('Conversion Rate CIs')\n",
    "\n",
    "#Adding custom text values\n",
    "ax.text(UB_0+0.0017, 1, f'CI: {round(LB_0*100,2)}% - {round(UB_0*100,2)}%', fontsize=12, color='blue')\n",
    "ax.text(UB_1+0.0007, 0, f'CI: {round(LB_1*100,2)}% - {round(UB_1*100,2)}%', fontsize=12, color='green')\n",
    "\n",
    "#Moving legend location outside \n",
    "_=ax.legend(loc='upper left', bbox_to_anchor=(1, 1))"
   ]
  },
  {
   "cell_type": "markdown",
   "id": "b69dbb3a-e3c0-4dab-8396-43b96b36436d",
   "metadata": {},
   "source": [
    "## Checking Chi-square test statistic with Z-test"
   ]
  },
  {
   "cell_type": "code",
   "execution_count": 184,
   "id": "26729977-9277-456f-b315-71fda2cfb611",
   "metadata": {},
   "outputs": [
    {
     "name": "stdout",
     "output_type": "stream",
     "text": [
      "0.095\n",
      "0.09494168724097551\n"
     ]
    }
   ],
   "source": [
    "#Z-test checker\n",
    "##Two proportion z-test, on-tailed\n",
    "from statsmodels.stats.proportion import proportions_ztest\n",
    "count = np.array([df_crosstab[1][0], df_crosstab[1][1]])\n",
    "nobs = np.array([df_crosstab[0][0]+df_crosstab[1][0], df_crosstab[0][1]+df_crosstab[1][1]])\n",
    "stat, pval = proportions_ztest(count, nobs, alternative = 'smaller')\n",
    "print('{0:0.3f}'.format(pval))\n",
    "print(pval)"
   ]
  },
  {
   "cell_type": "code",
   "execution_count": 185,
   "id": "0c1b37d3-30f4-4dca-a665-333a09ad9e86",
   "metadata": {},
   "outputs": [
    {
     "name": "stdout",
     "output_type": "stream",
     "text": [
      "0.190\n",
      "0.18988337448195103\n"
     ]
    }
   ],
   "source": [
    "#Z-test checker\n",
    "##Two proportion z-test, two-tailed\n",
    "from statsmodels.stats.proportion import proportions_ztest\n",
    "count = np.array([df_crosstab[1][0], df_crosstab[1][1]])\n",
    "nobs = np.array([df_crosstab[0][0]+df_crosstab[1][0], df_crosstab[0][1]+df_crosstab[1][1]])\n",
    "stat, pval = proportions_ztest(count, nobs)\n",
    "print('{0:0.3f}'.format(pval))\n",
    "print(pval)"
   ]
  },
  {
   "cell_type": "code",
   "execution_count": 187,
   "id": "420b2e28-3a26-41c7-8de7-49c43acfc6a6",
   "metadata": {},
   "outputs": [
    {
     "ename": "AssertionError",
     "evalue": "",
     "output_type": "error",
     "traceback": [
      "\u001b[1;31m---------------------------------------------------------------------------\u001b[0m",
      "\u001b[1;31mAssertionError\u001b[0m                            Traceback (most recent call last)",
      "\u001b[1;32m~\\AppData\\Local\\Temp/ipykernel_3912/1489453663.py\u001b[0m in \u001b[0;36m<module>\u001b[1;34m\u001b[0m\n\u001b[0;32m      1\u001b[0m \u001b[1;31m#Checking equivalence of the test statistic values from the chi square and z-tests\u001b[0m\u001b[1;33m\u001b[0m\u001b[1;33m\u001b[0m\u001b[0m\n\u001b[1;32m----> 2\u001b[1;33m \u001b[1;32massert\u001b[0m \u001b[0mpval\u001b[0m \u001b[1;33m==\u001b[0m \u001b[0mp\u001b[0m\u001b[1;33m\u001b[0m\u001b[1;33m\u001b[0m\u001b[0m\n\u001b[0m",
      "\u001b[1;31mAssertionError\u001b[0m: "
     ]
    }
   ],
   "source": [
    "#Checking equivalence of the test statistic values from the chi square and z-tests\n",
    "assert pval == p"
   ]
  },
  {
   "cell_type": "code",
   "execution_count": 190,
   "id": "8d01c47a-628f-49e2-b29a-08e30dbb39d4",
   "metadata": {},
   "outputs": [],
   "source": [
    "#We can see we did not get an exact match, but rounded to 10 places they are the same\n",
    "assert round(pval,10) == round(p,10)"
   ]
  },
  {
   "cell_type": "code",
   "execution_count": null,
   "id": "6db8b5e9-0987-4054-b735-b03d85d8e0b1",
   "metadata": {},
   "outputs": [],
   "source": []
  }
 ],
 "metadata": {
  "kernelspec": {
   "display_name": "Python 3 (ipykernel)",
   "language": "python",
   "name": "python3"
  },
  "language_info": {
   "codemirror_mode": {
    "name": "ipython",
    "version": 3
   },
   "file_extension": ".py",
   "mimetype": "text/x-python",
   "name": "python",
   "nbconvert_exporter": "python",
   "pygments_lexer": "ipython3",
   "version": "3.9.7"
  }
 },
 "nbformat": 4,
 "nbformat_minor": 5
}
